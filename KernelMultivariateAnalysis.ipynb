{
 "cells": [
  {
   "cell_type": "markdown",
   "metadata": {},
   "source": [
    "# カーネル多変量解析"
   ]
  },
  {
   "cell_type": "markdown",
   "metadata": {},
   "source": [
    "## カーネル回帰"
   ]
  },
  {
   "cell_type": "markdown",
   "metadata": {},
   "source": [
    "### scikit-learn"
   ]
  },
  {
   "cell_type": "code",
   "execution_count": 1,
   "metadata": {},
   "outputs": [],
   "source": [
    "from sklearn import datasets\n",
    "import pandas as pd\n",
    "import numpy as np\n",
    "import matplotlib.pyplot as plt\n",
    "%matplotlib inline"
   ]
  },
  {
   "cell_type": "code",
   "execution_count": 2,
   "metadata": {},
   "outputs": [],
   "source": [
    "from sklearn.model_selection import train_test_split\n",
    "\n",
    "boston = datasets.load_boston()\n",
    "df_X = pd.DataFrame(boston.data, columns=boston.feature_names)\n",
    "s_y = pd.Series(boston.target, name=\"HousePrice\")\n",
    "\n",
    "df_X_train, df_X_test, s_y_train, s_y_test = train_test_split(df_X, s_y, test_size=0.2)"
   ]
  },
  {
   "cell_type": "code",
   "execution_count": 81,
   "metadata": {},
   "outputs": [
    {
     "data": {
      "text/plain": [
       "GridSearchCV(cv=5, error_score='raise-deprecating',\n",
       "             estimator=KernelRidge(alpha=1, coef0=1, degree=3, gamma=None,\n",
       "                                   kernel='linear', kernel_params=None),\n",
       "             iid='warn', n_jobs=None,\n",
       "             param_grid={'alpha': [0.01, 0.1, 1, 10],\n",
       "                         'gamma': [0.01, 0.1, 1, 10]},\n",
       "             pre_dispatch='2*n_jobs', refit=True, return_train_score=False,\n",
       "             scoring=None, verbose=0)"
      ]
     },
     "execution_count": 81,
     "metadata": {},
     "output_type": "execute_result"
    }
   ],
   "source": [
    "from sklearn.kernel_ridge import KernelRidge\n",
    "from sklearn.model_selection import GridSearchCV\n",
    "\n",
    "parameters = {'alpha':[0.01, 0.1, 1, 10], 'gamma':[0.01, 0.1, 1, 10]}\n",
    "krr = KernelRidge()\n",
    "krr_gscv = GridSearchCV(krr, parameters, cv=5)\n",
    "krr_gscv.fit(df_X_train, s_y_train)"
   ]
  },
  {
   "cell_type": "code",
   "execution_count": 4,
   "metadata": {},
   "outputs": [
    {
     "data": {
      "text/plain": [
       "{'alpha': 10, 'gamma': 0.01}"
      ]
     },
     "execution_count": 4,
     "metadata": {},
     "output_type": "execute_result"
    }
   ],
   "source": [
    "krr_gscv.best_params_"
   ]
  },
  {
   "cell_type": "code",
   "execution_count": 83,
   "metadata": {},
   "outputs": [
    {
     "data": {
      "text/plain": [
       "<matplotlib.collections.PathCollection at 0x14c48ce10>"
      ]
     },
     "execution_count": 83,
     "metadata": {},
     "output_type": "execute_result"
    },
    {
     "data": {
      "image/png": "[encoded data removed]",
      "text/plain": [
       "<Figure size 432x288 with 1 Axes>"
      ]
     },
     "metadata": {
      "needs_background": "light"
     },
     "output_type": "display_data"
    }
   ],
   "source": [
    "krr = KernelRidge(alpha=10, gamma=0.01)\n",
    "krr.fit(df_X_train, s_y_train)\n",
    "y_pred = krr.predict(df_X_test)\n",
    "plt.scatter(y_pred, s_y_test)"
   ]
  },
  {
   "cell_type": "markdown",
   "metadata": {},
   "source": [
    "### 自作"
   ]
  },
  {
   "cell_type": "code",
   "execution_count": 49,
   "metadata": {},
   "outputs": [],
   "source": [
    "from sklearn.metrics.pairwise import euclidean_distances"
   ]
  },
  {
   "cell_type": "code",
   "execution_count": 74,
   "metadata": {},
   "outputs": [],
   "source": [
    "A = np.array([[1,2,3],[1,3,3],[1,2,3]])\n",
    "B = np.array([[1,2,3],[4,5,6]])"
   ]
  },
  {
   "cell_type": "code",
   "execution_count": 75,
   "metadata": {},
   "outputs": [
    {
     "data": {
      "text/plain": [
       "array([[ 0., 27.],\n",
       "       [ 1., 22.],\n",
       "       [ 0., 27.]])"
      ]
     },
     "execution_count": 75,
     "metadata": {},
     "output_type": "execute_result"
    }
   ],
   "source": [
    "euclidean_distances(A, B, squared=True)"
   ]
  },
  {
   "cell_type": "code",
   "execution_count": 145,
   "metadata": {},
   "outputs": [],
   "source": [
    "class KernelRegression:\n",
    "    def __init__(self, alpha=1, kernel_type=\"rbf\", **kwargs):\n",
    "        self.alpha = alpha\n",
    "        self.kernel = self.get_kernel(kernel_type, **kwargs)\n",
    "        self.params = kwargs\n",
    "    \n",
    "    def fit(self, X, y):\n",
    "        if X.ndim == 1: X = X.reshape(-1,1)\n",
    "        if y.ndim == 1: y = y.reshape(-1,1)\n",
    "        self.K = self.kernel(X, X)\n",
    "        self.Inv = np.linalg.inv(self.K + self.alpha * np.eye(self.K.shape[0]))\n",
    "        self.H = self.Inv @ self.K\n",
    "        self.a = self.Inv @ y\n",
    "        self.X_fit = X\n",
    "        self.cv_score = np.mean(((y - self.H @ y) / (1 - np.diag(self.H).reshape(-1,1)))**2)\n",
    "        return self\n",
    "    \n",
    "    def predict(self, X):\n",
    "        K_pred = self.kernel(X, self.X_fit)\n",
    "        return K_pred @ self.a\n",
    "    \n",
    "    def get_kernel(self, kernel_type=\"rbf\", gamma=1):\n",
    "        if kernel_type == \"rbf\": \n",
    "            return lambda A, B: np.exp(- gamma * euclidean_distances(A, B, squared=True))"
   ]
  },
  {
   "cell_type": "code",
   "execution_count": 146,
   "metadata": {},
   "outputs": [],
   "source": [
    "krr2 = KernelRegression(alpha=0.1, kernel_type=\"rbf\", gamma=0.01)"
   ]
  },
  {
   "cell_type": "code",
   "execution_count": 147,
   "metadata": {},
   "outputs": [
    {
     "name": "stdout",
     "output_type": "stream",
     "text": [
      "CPU times: user 136 ms, sys: 5.42 ms, total: 141 ms\n",
      "Wall time: 97.1 ms\n"
     ]
    },
    {
     "data": {
      "text/plain": [
       "<__main__.KernelRegression at 0x11785d278>"
      ]
     },
     "execution_count": 147,
     "metadata": {},
     "output_type": "execute_result"
    }
   ],
   "source": [
    "%%time\n",
    "krr2.fit(df_X_train.values, s_y_train.values)"
   ]
  },
  {
   "cell_type": "code",
   "execution_count": 148,
   "metadata": {},
   "outputs": [
    {
     "data": {
      "text/plain": [
       "205.4548738947921"
      ]
     },
     "execution_count": 148,
     "metadata": {},
     "output_type": "execute_result"
    }
   ],
   "source": [
    "krr2.cv_score"
   ]
  },
  {
   "cell_type": "code",
   "execution_count": 154,
   "metadata": {},
   "outputs": [],
   "source": [
    "cv_score = {}\n",
    "for alpha in np.logspace(-3, 2, 10):\n",
    "    for gamma in np.logspace(-3, 2, 10):\n",
    "        krr2 = KernelRegression(alpha=alpha, gamma=gamma)\n",
    "        cv_score[(alpha, gamma)] = krr2.fit(df_X_train.values, s_y_train.values).cv_score"
   ]
  },
  {
   "cell_type": "code",
   "execution_count": 156,
   "metadata": {},
   "outputs": [
    {
     "data": {
      "text/plain": [
       "[((0.046415888336127795, 0.001), 36.79407408360901),\n",
       " ((0.01291549665014884, 0.001), 36.938091614938045),\n",
       " ((0.003593813663804626, 0.001), 39.02462290393335),\n",
       " ((0.1668100537200059, 0.001), 40.56451118663454),\n",
       " ((0.001, 0.001), 41.13033766842652)]"
      ]
     },
     "execution_count": 156,
     "metadata": {},
     "output_type": "execute_result"
    }
   ],
   "source": [
    "sorted(cv_score.items(), key=lambda x: x[1])[:5]"
   ]
  },
  {
   "cell_type": "code",
   "execution_count": 159,
   "metadata": {},
   "outputs": [
    {
     "data": {
      "text/plain": [
       "<__main__.KernelRegression at 0x1178587b8>"
      ]
     },
     "execution_count": 159,
     "metadata": {},
     "output_type": "execute_result"
    }
   ],
   "source": [
    "krr2 = KernelRegression(alpha=0.15, gamma=0.001)\n",
    "krr2.fit(df_X_train.values, s_y_train.values)"
   ]
  },
  {
   "cell_type": "code",
   "execution_count": 161,
   "metadata": {},
   "outputs": [
    {
     "data": {
      "text/plain": [
       "<matplotlib.collections.PathCollection at 0x117d75710>"
      ]
     },
     "execution_count": 161,
     "metadata": {},
     "output_type": "execute_result"
    },
    {
     "data": {
      "image/png": "[encoded data removed]",
      "text/plain": [
       "<Figure size 432x288 with 1 Axes>"
      ]
     },
     "metadata": {
      "needs_background": "light"
     },
     "output_type": "display_data"
    }
   ],
   "source": [
    "plt.scatter(krr2.predict(df_X_train.values), s_y_train)"
   ]
  },
  {
   "cell_type": "code",
   "execution_count": 160,
   "metadata": {},
   "outputs": [
    {
     "data": {
      "text/plain": [
       "<matplotlib.collections.PathCollection at 0x11785e0b8>"
      ]
     },
     "execution_count": 160,
     "metadata": {},
     "output_type": "execute_result"
    },
    {
     "data": {
      "image/png": "[encoded data removed]",
      "text/plain": [
       "<Figure size 432x288 with 1 Axes>"
      ]
     },
     "metadata": {
      "needs_background": "light"
     },
     "output_type": "display_data"
    }
   ],
   "source": [
    "plt.scatter(krr2.predict(df_X_test.values), s_y_test)"
   ]
  },
  {
   "cell_type": "markdown",
   "metadata": {},
   "source": [
    "## カーネル主成分分析"
   ]
  },
  {
   "cell_type": "code",
   "execution_count": null,
   "metadata": {},
   "outputs": [],
   "source": []
  },
  {
   "cell_type": "markdown",
   "metadata": {},
   "source": [
    "## サポートベクトルマシン"
   ]
  },
  {
   "cell_type": "code",
   "execution_count": null,
   "metadata": {},
   "outputs": [],
   "source": []
  }
 ],
 "metadata": {
  "kernelspec": {
   "display_name": "Python [conda env:ml-utils]",
   "language": "python",
   "name": "conda-env-ml-utils-py"
  },
  "language_info": {
   "codemirror_mode": {
    "name": "ipython",
    "version": 3
   },
   "file_extension": ".py",
   "mimetype": "text/x-python",
   "name": "python",
   "nbconvert_exporter": "python",
   "pygments_lexer": "ipython3",
   "version": "3.6.7"
  }
 },
 "nbformat": 4,
 "nbformat_minor": 4
}
